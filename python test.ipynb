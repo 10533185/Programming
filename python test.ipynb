{
 "cells": [
  {
   "cell_type": "code",
   "execution_count": null,
   "metadata": {},
   "outputs": [],
   "source": [
    "Class student record():\n",
    "    \n",
    "    def add(self,StudentNumber=[],StudentName=[],CourseCode=[]):\n",
    "        self.stdno=StudentNumber\n",
    "        self.stdName=StudentName\n",
    "        self.crcode=CourseCode\n",
    "        \n",
    "        for i in range(5):\n",
    "            Num=int(input[\"Enter Student Number :\"])\n",
    "            if Num==len(8):\n",
    "                stdno.append(Num)\n",
    "            else:\n",
    "                print(\"Invalid Number\")\n",
    "        \n",
    "        for j in range(5):\n",
    "            Name=input(\"Enter student Name :\")\n",
    "            stdName.append(Name)\n",
    "            \n",
    "        for k in range(5):\n",
    "            code=input(\"Enter a coursecode :\")\n",
    "            if code=='str' and code==len(7):\n",
    "                crcode.append(code)\n",
    "            else:\n",
    "                print(\"Invalid coursecode\")\n",
    "                \n",
    "                \n",
    "        \n",
    "        "
   ]
  }
 ],
 "metadata": {
  "kernelspec": {
   "display_name": "Python 3",
   "language": "python",
   "name": "python3"
  },
  "language_info": {
   "codemirror_mode": {
    "name": "ipython",
    "version": 3
   },
   "file_extension": ".py",
   "mimetype": "text/x-python",
   "name": "python",
   "nbconvert_exporter": "python",
   "pygments_lexer": "ipython3",
   "version": "3.7.3"
  }
 },
 "nbformat": 4,
 "nbformat_minor": 2
}
